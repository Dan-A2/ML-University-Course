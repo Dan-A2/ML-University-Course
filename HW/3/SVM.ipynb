{
 "cells": [
  {
   "cell_type": "markdown",
   "metadata": {},
   "source": [
    "<img src=\"./sharif.png\" alt=\"SUT logo\" width=300 height=300 align=left class=\"saturate\">\n",
    "\n",
    "<br>\n",
    "<font>\n",
    "<div dir=ltr align=center>\n",
    "<font color=0F5298 size=7>\n",
    "    Machine Learning <br>\n",
    "<font color=2565AE size=5>\n",
    "    Computer Engineering Department <br>\n",
    "    Spring 2024<br>\n",
    "<font color=3C99D size=5>\n",
    "    Practical Assignment 3<br>\n",
    "<font color=696880 size=4>\n",
    "    Ashkan Majidi - Shayan Salehi - Amirhossein Alamdar\n",
    "\n",
    "____"
   ]
  },
  {
   "cell_type": "markdown",
   "metadata": {},
   "source": [
    "# Personal Data"
   ]
  },
  {
   "cell_type": "code",
   "execution_count": 1,
   "metadata": {},
   "outputs": [],
   "source": [
    "student_number = '99100455'\n",
    "first_name = 'Danial'\n",
    "last_name = 'Ataee'"
   ]
  },
  {
   "cell_type": "markdown",
   "metadata": {},
   "source": [
    "# Introduction\n",
    "\n",
    "In this assignment, you will implement SVM (Support Vector Machines) for classification.\n"
   ]
  },
  {
   "cell_type": "markdown",
   "metadata": {},
   "source": [
    "# Data Prepfocessing"
   ]
  },
  {
   "cell_type": "markdown",
   "metadata": {},
   "source": [
    "Import your needed libraries in following cell."
   ]
  },
  {
   "cell_type": "code",
   "execution_count": 2,
   "metadata": {},
   "outputs": [],
   "source": [
    "import numpy as np\n",
    "import pandas as pd\n",
    "import seaborn as sns\n",
    "from sklearn.model_selection import train_test_split\n",
    "from sklearn.preprocessing import StandardScaler\n",
    "from sklearn.multiclass import OneVsRestClassifier\n",
    "from sklearn.svm import SVC\n",
    "from sklearn.metrics import accuracy_score, balanced_accuracy_score, confusion_matrix\n",
    "import cvxopt\n",
    "from sklearn.svm import SVC\n",
    "from sklearn.model_selection import GridSearchCV\n",
    "from scipy.spatial import distance\n",
    "import copy"
   ]
  },
  {
   "cell_type": "markdown",
   "metadata": {},
   "source": [
    "Load data from ```satimage``` dataset and split data to features and labels. The ```label``` column is our target variable. "
   ]
  },
  {
   "cell_type": "code",
   "execution_count": 3,
   "metadata": {},
   "outputs": [
    {
     "data": {
      "text/html": [
       "<div>\n",
       "<style scoped>\n",
       "    .dataframe tbody tr th:only-of-type {\n",
       "        vertical-align: middle;\n",
       "    }\n",
       "\n",
       "    .dataframe tbody tr th {\n",
       "        vertical-align: top;\n",
       "    }\n",
       "\n",
       "    .dataframe thead th {\n",
       "        text-align: right;\n",
       "    }\n",
       "</style>\n",
       "<table border=\"1\" class=\"dataframe\">\n",
       "  <thead>\n",
       "    <tr style=\"text-align: right;\">\n",
       "      <th></th>\n",
       "      <th>0</th>\n",
       "      <th>1</th>\n",
       "      <th>2</th>\n",
       "      <th>3</th>\n",
       "      <th>4</th>\n",
       "      <th>5</th>\n",
       "      <th>6</th>\n",
       "      <th>7</th>\n",
       "      <th>8</th>\n",
       "      <th>9</th>\n",
       "      <th>...</th>\n",
       "      <th>27</th>\n",
       "      <th>28</th>\n",
       "      <th>29</th>\n",
       "      <th>30</th>\n",
       "      <th>31</th>\n",
       "      <th>32</th>\n",
       "      <th>33</th>\n",
       "      <th>34</th>\n",
       "      <th>35</th>\n",
       "      <th>label</th>\n",
       "    </tr>\n",
       "  </thead>\n",
       "  <tbody>\n",
       "    <tr>\n",
       "      <th>0</th>\n",
       "      <td>7.5</td>\n",
       "      <td>6.272730</td>\n",
       "      <td>4.047619</td>\n",
       "      <td>3.975208</td>\n",
       "      <td>3.032258</td>\n",
       "      <td>4.545455</td>\n",
       "      <td>8.421050</td>\n",
       "      <td>1.8125</td>\n",
       "      <td>-2.2500</td>\n",
       "      <td>0.077672</td>\n",
       "      <td>...</td>\n",
       "      <td>-0.600000</td>\n",
       "      <td>-0.138462</td>\n",
       "      <td>-0.188119</td>\n",
       "      <td>-0.431579</td>\n",
       "      <td>-0.546875</td>\n",
       "      <td>-0.15625</td>\n",
       "      <td>-0.126214</td>\n",
       "      <td>-0.431579</td>\n",
       "      <td>-0.484375</td>\n",
       "      <td>6.0</td>\n",
       "    </tr>\n",
       "    <tr>\n",
       "      <th>1</th>\n",
       "      <td>7.5</td>\n",
       "      <td>4.090909</td>\n",
       "      <td>-0.714290</td>\n",
       "      <td>1.776858</td>\n",
       "      <td>2.903226</td>\n",
       "      <td>3.090909</td>\n",
       "      <td>5.052630</td>\n",
       "      <td>-1.7500</td>\n",
       "      <td>-2.2500</td>\n",
       "      <td>0.077672</td>\n",
       "      <td>...</td>\n",
       "      <td>-0.600000</td>\n",
       "      <td>-0.015385</td>\n",
       "      <td>-0.049505</td>\n",
       "      <td>-0.431579</td>\n",
       "      <td>-0.609375</td>\n",
       "      <td>-0.15625</td>\n",
       "      <td>-0.126214</td>\n",
       "      <td>-0.494737</td>\n",
       "      <td>-0.609375</td>\n",
       "      <td>6.0</td>\n",
       "    </tr>\n",
       "    <tr>\n",
       "      <th>2</th>\n",
       "      <td>12.0</td>\n",
       "      <td>9.909090</td>\n",
       "      <td>8.333330</td>\n",
       "      <td>5.479339</td>\n",
       "      <td>3.354839</td>\n",
       "      <td>7.272730</td>\n",
       "      <td>10.526316</td>\n",
       "      <td>2.7500</td>\n",
       "      <td>3.4375</td>\n",
       "      <td>6.368924</td>\n",
       "      <td>...</td>\n",
       "      <td>-0.233333</td>\n",
       "      <td>0.200000</td>\n",
       "      <td>0.207921</td>\n",
       "      <td>-0.010526</td>\n",
       "      <td>-0.312500</td>\n",
       "      <td>-0.15625</td>\n",
       "      <td>0.009709</td>\n",
       "      <td>-0.326316</td>\n",
       "      <td>-0.437500</td>\n",
       "      <td>6.0</td>\n",
       "    </tr>\n",
       "    <tr>\n",
       "      <th>3</th>\n",
       "      <td>7.5</td>\n",
       "      <td>4.818182</td>\n",
       "      <td>1.190480</td>\n",
       "      <td>2.702482</td>\n",
       "      <td>2.774194</td>\n",
       "      <td>2.363640</td>\n",
       "      <td>5.894740</td>\n",
       "      <td>-0.2500</td>\n",
       "      <td>-3.8750</td>\n",
       "      <td>-2.368924</td>\n",
       "      <td>...</td>\n",
       "      <td>-0.383333</td>\n",
       "      <td>-0.138462</td>\n",
       "      <td>-0.049505</td>\n",
       "      <td>-0.347368</td>\n",
       "      <td>-0.484375</td>\n",
       "      <td>0.09375</td>\n",
       "      <td>0.087379</td>\n",
       "      <td>-0.031579</td>\n",
       "      <td>-0.218750</td>\n",
       "      <td>6.0</td>\n",
       "    </tr>\n",
       "    <tr>\n",
       "      <th>4</th>\n",
       "      <td>7.5</td>\n",
       "      <td>4.818182</td>\n",
       "      <td>2.142860</td>\n",
       "      <td>2.702482</td>\n",
       "      <td>3.032258</td>\n",
       "      <td>3.090909</td>\n",
       "      <td>6.736840</td>\n",
       "      <td>-1.0000</td>\n",
       "      <td>-0.6250</td>\n",
       "      <td>-1.320388</td>\n",
       "      <td>...</td>\n",
       "      <td>-0.183333</td>\n",
       "      <td>0.230769</td>\n",
       "      <td>0.267327</td>\n",
       "      <td>-0.031579</td>\n",
       "      <td>-0.281250</td>\n",
       "      <td>-0.03125</td>\n",
       "      <td>-0.126214</td>\n",
       "      <td>-0.431579</td>\n",
       "      <td>-0.546875</td>\n",
       "      <td>6.0</td>\n",
       "    </tr>\n",
       "  </tbody>\n",
       "</table>\n",
       "<p>5 rows × 37 columns</p>\n",
       "</div>"
      ],
      "text/plain": [
       "      0         1         2         3         4         5          6       7  \\\n",
       "0   7.5  6.272730  4.047619  3.975208  3.032258  4.545455   8.421050  1.8125   \n",
       "1   7.5  4.090909 -0.714290  1.776858  2.903226  3.090909   5.052630 -1.7500   \n",
       "2  12.0  9.909090  8.333330  5.479339  3.354839  7.272730  10.526316  2.7500   \n",
       "3   7.5  4.818182  1.190480  2.702482  2.774194  2.363640   5.894740 -0.2500   \n",
       "4   7.5  4.818182  2.142860  2.702482  3.032258  3.090909   6.736840 -1.0000   \n",
       "\n",
       "        8         9  ...        27        28        29        30        31  \\\n",
       "0 -2.2500  0.077672  ... -0.600000 -0.138462 -0.188119 -0.431579 -0.546875   \n",
       "1 -2.2500  0.077672  ... -0.600000 -0.015385 -0.049505 -0.431579 -0.609375   \n",
       "2  3.4375  6.368924  ... -0.233333  0.200000  0.207921 -0.010526 -0.312500   \n",
       "3 -3.8750 -2.368924  ... -0.383333 -0.138462 -0.049505 -0.347368 -0.484375   \n",
       "4 -0.6250 -1.320388  ... -0.183333  0.230769  0.267327 -0.031579 -0.281250   \n",
       "\n",
       "        32        33        34        35  label  \n",
       "0 -0.15625 -0.126214 -0.431579 -0.484375    6.0  \n",
       "1 -0.15625 -0.126214 -0.494737 -0.609375    6.0  \n",
       "2 -0.15625  0.009709 -0.326316 -0.437500    6.0  \n",
       "3  0.09375  0.087379 -0.031579 -0.218750    6.0  \n",
       "4 -0.03125 -0.126214 -0.431579 -0.546875    6.0  \n",
       "\n",
       "[5 rows x 37 columns]"
      ]
     },
     "execution_count": 3,
     "metadata": {},
     "output_type": "execute_result"
    }
   ],
   "source": [
    "data = pd.read_csv('./Data/satimage.csv')\n",
    "data.head()"
   ]
  },
  {
   "cell_type": "code",
   "execution_count": 4,
   "metadata": {},
   "outputs": [
    {
     "data": {
      "text/plain": [
       "array([6., 2., 1., 5., 3., 4.])"
      ]
     },
     "execution_count": 4,
     "metadata": {},
     "output_type": "execute_result"
    }
   ],
   "source": [
    "data['label'].unique()"
   ]
  },
  {
   "cell_type": "markdown",
   "metadata": {},
   "source": [
    "Now split data to train, validation and test parts. 60% of data should be used for train, 15% for validation and 25% for test. After that scale the data to Standard Normal Distribution using ```StandardScaler``` class from ```scikit-learn``` library."
   ]
  },
  {
   "cell_type": "code",
   "execution_count": 5,
   "metadata": {},
   "outputs": [],
   "source": [
    "data = data[(data['label'] == 4) | (data['label'] == 6)]\n",
    "\n",
    "X = data.drop(['label'], axis=1).values\n",
    "y = data['label'].values\n",
    "\n",
    "X_train, X_test, y_train, y_test = train_test_split(X, y, test_size=0.4)\n",
    "X_val, X_test, y_val, y_test = train_test_split(X_test, y_test, test_size=0.625)"
   ]
  },
  {
   "cell_type": "code",
   "execution_count": 6,
   "metadata": {},
   "outputs": [],
   "source": [
    "scaler = StandardScaler()\n",
    "\n",
    "X_train = scaler.fit_transform(X_train)\n",
    "X_val = scaler.fit_transform(X_val)\n",
    "X_test = scaler.fit_transform(X_test)"
   ]
  },
  {
   "cell_type": "markdown",
   "metadata": {},
   "source": [
    "We want to train Binary SVM model for classification between labels 4 and 6. Choose corresponding datas and convert their lables to 1 and -1 respectively for 4 and 6."
   ]
  },
  {
   "cell_type": "code",
   "execution_count": 7,
   "metadata": {},
   "outputs": [],
   "source": [
    "y_train = np.where(y_train == 4, 1, -1)\n",
    "y_val = np.where(y_val == 4, 1, -1)\n",
    "y_test = np.where(y_test == 4, 1, -1)"
   ]
  },
  {
   "cell_type": "markdown",
   "metadata": {},
   "source": [
    "# Model (50 points)"
   ]
  },
  {
   "cell_type": "markdown",
   "metadata": {},
   "source": [
    "Here is soft margin svm convex optimization formulation. \n",
    "$$\n",
    "\\begin{aligned}\n",
    "\\text { Minimize } & \\frac{1}{2}\\|\\mathbf{w}\\|^2+C \\sum_{i=1}^N \\xi_i \\\\\n",
    "\\text { Subject to } & y_i\\left(\\mathbf{w}^T \\mathbf{x}_i+b\\right) \\geq 1-\\xi_i, \\quad i=1,2, \\ldots, N \\\\\n",
    "& \\xi_i \\geq 0, \\quad i=1,2, \\ldots, N\n",
    "\\end{aligned}\n",
    "$$\n",
    "write dual of the soft margin svm optimization problem below:"
   ]
  },
  {
   "cell_type": "markdown",
   "metadata": {},
   "source": [
    "$$\n",
    "\\text{Maximize}\\ \\ \\sum_{n=1}^{N}\\alpha_n-\\frac{1}{2}\\sum_{n=1}^{N}\\sum_{m=1}^{N}\n",
    "\\alpha_n\\alpha_my^{(n)}y^{(m)}x^{{(n)}^T}x^{(m)}\n",
    "$$\n",
    "$$\n",
    "\\text{s.t.}\n",
    "\\begin{cases}\n",
    "    \\sum\\limits_{n=1}^{N}\\alpha_ny^{(n)}=0 \\\\\n",
    "    0\\leq\\alpha_n\\leq C & n=1,\\dots,N\n",
    "\\end{cases}\n",
    "$$"
   ]
  },
  {
   "cell_type": "markdown",
   "metadata": {},
   "source": [
    "Now you should write this optimization problem in standard Quadratic Program (QP) form and use a QP solver to find optimal answer. Here is General form of a QP:\n",
    "$$\n",
    "\\begin{aligned}\n",
    "\\text { Minimize } & \\frac{1}{2} x^TPx + q^Tx + r \\\\\n",
    "\\text { Subject to } & Gx \\leq h \\\\\n",
    "& Ax = b\n",
    "\\end{aligned}\n",
    "$$\n",
    "\n",
    "Complete functions below and use ```cvxopt``` library which is a common library for solving QPs. Note that you can't use ```scikit-learn``` library.\n"
   ]
  },
  {
   "cell_type": "code",
   "execution_count": 8,
   "metadata": {},
   "outputs": [],
   "source": [
    "def soft_margin_svm(X, y, C):\n",
    "    \"\"\"\n",
    "    input:\n",
    "        X: training data\n",
    "        y: training labels\n",
    "        C: errors weight\n",
    "    output:\n",
    "        support_vectros: data points which are SVs of our model.\n",
    "        support_vector_labels: labels of SVs\n",
    "        support_vector_alphas: alpha coefficient of corresponding SVs \n",
    "    \"\"\"\n",
    "\n",
    "    n_samples, n_features = X.shape\n",
    "\n",
    "    # Gram matrix\n",
    "    K = np.dot(X, X.T)\n",
    "\n",
    "    # P, q, G, h, A, b matrices for cvxopt\n",
    "    P = cvxopt.matrix(np.outer(y, y) * K)\n",
    "    q = cvxopt.matrix(-np.ones(n_samples))\n",
    "    G = cvxopt.matrix(np.vstack((np.eye(n_samples) * -1, np.eye(n_samples))))\n",
    "    h = cvxopt.matrix(np.hstack((np.zeros(n_samples), np.ones(n_samples) * C)))\n",
    "    A = cvxopt.matrix(y, (1, n_samples), 'd')\n",
    "    b = cvxopt.matrix(0.0)\n",
    "\n",
    "    # Solve QP problem\n",
    "    solution = cvxopt.solvers.qp(P, q, G, h, A, b)\n",
    "\n",
    "    # Lagrange multipliers\n",
    "    alphas = np.array(solution['x']).flatten()\n",
    "\n",
    "    # Support vectors have non-zero lagrange multipliers\n",
    "    sv = (alphas > 1e-5)\n",
    "    ind = np.arange(len(alphas))[sv]\n",
    "    support_vectors = X[sv]\n",
    "    support_vector_labels = y[sv]\n",
    "    support_vector_alphas = alphas[sv]\n",
    "\n",
    "    return support_vectors, support_vector_labels, support_vector_alphas"
   ]
  },
  {
   "cell_type": "code",
   "execution_count": 9,
   "metadata": {},
   "outputs": [
    {
     "name": "stdout",
     "output_type": "stream",
     "text": [
      "     pcost       dcost       gap    pres   dres\n",
      " 0: -6.1347e+02 -3.3324e+03  2e+04  3e+00  4e-13\n",
      " 1: -4.2280e+02 -2.2442e+03  3e+03  4e-01  2e-13\n",
      " 2: -3.9327e+02 -8.2039e+02  5e+02  4e-02  2e-13\n",
      " 3: -4.3173e+02 -5.6725e+02  2e+02  1e-02  2e-13\n",
      " 4: -4.5093e+02 -5.2320e+02  8e+01  5e-03  2e-13\n",
      " 5: -4.5957e+02 -5.0423e+02  5e+01  2e-03  2e-13\n",
      " 6: -4.6654e+02 -4.9024e+02  2e+01  1e-03  2e-13\n",
      " 7: -4.7068e+02 -4.8224e+02  1e+01  3e-04  2e-13\n",
      " 8: -4.7349e+02 -4.7802e+02  5e+00  1e-04  2e-13\n",
      " 9: -4.7454e+02 -4.7643e+02  2e+00  4e-05  2e-13\n",
      "10: -4.7502e+02 -4.7573e+02  7e-01  1e-05  2e-13\n",
      "11: -4.7528e+02 -4.7540e+02  1e-01  1e-06  2e-13\n",
      "12: -4.7533e+02 -4.7534e+02  8e-03  8e-08  2e-13\n",
      "13: -4.7533e+02 -4.7534e+02  1e-04  1e-09  2e-13\n",
      "Optimal solution found.\n"
     ]
    }
   ],
   "source": [
    "C = 1.0\n",
    "support_vectors, support_vector_labels, support_vector_alphas = soft_margin_svm(X_train, y_train, C)"
   ]
  },
  {
   "cell_type": "code",
   "execution_count": 10,
   "metadata": {},
   "outputs": [],
   "source": [
    "def predict_labels(x_test, support_vectors, support_vector_labels, support_vector_alphas):\n",
    "    \"\"\"\n",
    "    input:\n",
    "        x_test: test data\n",
    "        support_vectros: data points which are SVs of our model.\n",
    "        support_vector_labels: labels of SVs\n",
    "        support_vector_alphas: alpha coefficient of corresponding SVs \n",
    "    output:\n",
    "        y_pred: predictoin labels\n",
    "    \"\"\"\n",
    "    \n",
    "    K = np.dot(support_vectors, x_test.T)\n",
    "    decision_func = np.dot((support_vector_labels * support_vector_alphas).reshape(1, -1), K)\n",
    "    y_pred = np.sign(decision_func).flatten()\n",
    "    return y_pred"
   ]
  },
  {
   "cell_type": "code",
   "execution_count": 11,
   "metadata": {},
   "outputs": [],
   "source": [
    "y_pred = predict_labels(np.array(X_test), support_vectors, support_vector_labels, support_vector_alphas)"
   ]
  },
  {
   "cell_type": "markdown",
   "metadata": {},
   "source": [
    "# Evaluation (20 points)"
   ]
  },
  {
   "cell_type": "markdown",
   "metadata": {},
   "source": [
    "Compute accuracy, balanced accuracy and plot confusion matrix of your trained model using ```Seaborn.heatmap()``` function. Use case of balanced accuracy is when dealing with imbalanced data, i.e. when one of the target classes appears a lot more than the other and it is defined by average of recall of classes. Confusion matrix is a $k\\times k$ (k is number of classes) matrix which cell ij is showing that number of data points labeld i which predicted j. For more detail of evaluation metrics you can see [here](https://neptune.ai/blog/balanced-accuracy).\n",
    "\n",
    "You may use ```scikit-learn``` library to compute these metrics."
   ]
  },
  {
   "cell_type": "code",
   "execution_count": 12,
   "metadata": {},
   "outputs": [
    {
     "name": "stdout",
     "output_type": "stream",
     "text": [
      "Accuracy:  0.7883895131086143\n",
      "Balanced Accuracy:  0.8292613636363637\n",
      "Confusion Matrix:\n",
      " [[272 102]\n",
      " [ 11 149]]\n"
     ]
    }
   ],
   "source": [
    "def evaluate(y_test, y_pred):\n",
    "    \"\"\"\n",
    "    input:\n",
    "        y_test: true labels\n",
    "        y_pred: predicted labels\n",
    "    output:\n",
    "        accuracy: accuracy of the model\n",
    "        balanced_accuracy: balanced accuracy of the model\n",
    "        confusion_matrix: confusion matrix of the model\n",
    "    \"\"\"\n",
    "    accuracy = accuracy_score(y_test, y_pred)\n",
    "    balanced_accuracy = balanced_accuracy_score(y_test, y_pred)\n",
    "    confusion_mat = confusion_matrix(y_test, y_pred)\n",
    "    \n",
    "    print(\"Accuracy: \", accuracy)\n",
    "    print(\"Balanced Accuracy: \", balanced_accuracy)\n",
    "    print(\"Confusion Matrix:\\n\", confusion_mat)\n",
    "    \n",
    "    return accuracy, balanced_accuracy, confusion_mat\n",
    "\n",
    "_, _, confusion_mat = evaluate(y_test, y_pred)"
   ]
  },
  {
   "cell_type": "code",
   "execution_count": 13,
   "metadata": {},
   "outputs": [
    {
     "data": {
      "text/plain": [
       "<Axes: >"
      ]
     },
     "execution_count": 13,
     "metadata": {},
     "output_type": "execute_result"
    },
    {
     "data": {
      "image/png": "[encoded data removed]",
      "text/plain": [
       "<Figure size 640x480 with 2 Axes>"
      ]
     },
     "metadata": {},
     "output_type": "display_data"
    }
   ],
   "source": [
    "cm_matrix = pd.DataFrame(data=confusion_mat, columns=['Predict Negative:-1', 'Predict Positive:1'],\n",
    "                                 index=['Actual Negative:-1', 'Actual Positive:1'])\n",
    "\n",
    "sns.heatmap(cm_matrix, annot=True, fmt='d', cmap='mako')"
   ]
  },
  {
   "cell_type": "markdown",
   "metadata": {},
   "source": [
    "# Fine-tunning (40 points)"
   ]
  },
  {
   "cell_type": "markdown",
   "metadata": {},
   "source": [
    "like what you did before, implement Soft Margin SVM but now use rbf kernel. To determine rbf $\\gamma$ parameter use validation datas and find best(best by balanced accuracy) $\\gamma$ between 0.001 , 0.01, 1, 10, 100. Not that you can't use ```scikit-learn``` library here."
   ]
  },
  {
   "cell_type": "code",
   "execution_count": 14,
   "metadata": {},
   "outputs": [],
   "source": [
    "def rbf(x1, x2, gamma=1):\n",
    "    \"\"\"\n",
    "    input:\n",
    "        x1: first vector\n",
    "        x2: second vector\n",
    "        gamma: rbf kernel parameter with defalt value 1.\n",
    "    output:\n",
    "        ouput: computed rbf of two input vectors\n",
    "    \"\"\"\n",
    "    diff = np.subtract(x1, x2)\n",
    "    squared_norm = np.dot(diff, diff)\n",
    "    return np.exp(-gamma * squared_norm)\n",
    "\n",
    "def soft_margin_svm(X, y, C, gamma=1):\n",
    "    \"\"\"\n",
    "    input:\n",
    "        X: training data\n",
    "        y: training labels\n",
    "        C: errors weight\n",
    "        gamma: rbf kernel parameter with defalt value 1.\n",
    "    output:\n",
    "        support_vectros: data points which are SVs of our model.\n",
    "        support_vector_labels: labels of SVs\n",
    "        support_vector_alphas: alpha coefficient of corresponding SVs \n",
    "    \"\"\"\n",
    "\n",
    "    n = X.shape[0]\n",
    "    K = np.zeros((n, n))\n",
    "    for i in range(n):\n",
    "        for j in range(n):\n",
    "            K[i, j] = rbf(X[i], X[j], gamma)\n",
    "    P = cvxopt.matrix(np.outer(y, y) * K)\n",
    "    q = cvxopt.matrix(-np.ones(n))\n",
    "    G = cvxopt.matrix(np.vstack((-np.eye(n), np.eye(n))))\n",
    "    h = cvxopt.matrix(np.hstack((np.zeros(n), C * np.ones(n))))\n",
    "    A = cvxopt.matrix(y, (1, n), 'd')\n",
    "    b = cvxopt.matrix(0.0)\n",
    "\n",
    "    solution = cvxopt.solvers.qp(P, q, G, h, A, b)\n",
    "    alphas = np.ravel(solution['x'])\n",
    "\n",
    "    sv = (alphas > 1e-5)\n",
    "    support_vectors = X[sv]\n",
    "    support_vector_labels = y[sv]\n",
    "    support_vector_alphas = alphas[sv]\n",
    "\n",
    "    return support_vectors, support_vector_labels, support_vector_alphas"
   ]
  },
  {
   "cell_type": "code",
   "execution_count": 15,
   "metadata": {},
   "outputs": [
    {
     "name": "stdout",
     "output_type": "stream",
     "text": [
      "solving for gamma=0.1:\n",
      "\n",
      "     pcost       dcost       gap    pres   dres\n",
      " 0: -2.3534e+02 -2.5450e+03  1e+04  2e+00  1e-15\n",
      " 1: -1.9153e+02 -1.4528e+03  2e+03  1e-01  1e-15\n",
      " 2: -2.0922e+02 -4.4909e+02  3e+02  2e-02  1e-15\n",
      " 3: -2.3314e+02 -3.0204e+02  7e+01  4e-03  1e-15\n",
      " 4: -2.4426e+02 -2.5935e+02  2e+01  1e-04  1e-15\n",
      " 5: -2.4679e+02 -2.5164e+02  5e+00  2e-05  1e-15\n",
      " 6: -2.4746e+02 -2.4986e+02  2e+00  9e-06  1e-15\n",
      " 7: -2.4781e+02 -2.4895e+02  1e+00  1e-14  1e-15\n",
      " 8: -2.4808e+02 -2.4832e+02  2e-01  2e-14  1e-15\n",
      " 9: -2.4814e+02 -2.4820e+02  6e-02  3e-15  1e-15\n",
      "10: -2.4816e+02 -2.4816e+02  3e-03  1e-14  1e-15\n",
      "11: -2.4816e+02 -2.4816e+02  4e-05  1e-14  1e-15\n",
      "Optimal solution found.\n",
      "Accuracy:  0.803125\n",
      "Balanced Accuracy:  0.8421912746909195\n",
      "Confusion Matrix:\n",
      " [[170  57]\n",
      " [  6  87]]\n",
      "\n",
      "solving for gamma=0.1:\n",
      "\n",
      "     pcost       dcost       gap    pres   dres\n",
      " 0: -2.3534e+02 -2.5450e+03  1e+04  2e+00  1e-15\n",
      " 1: -1.9153e+02 -1.4528e+03  2e+03  1e-01  1e-15\n",
      " 2: -2.0922e+02 -4.4909e+02  3e+02  2e-02  1e-15\n",
      " 3: -2.3314e+02 -3.0204e+02  7e+01  4e-03  1e-15\n",
      " 4: -2.4426e+02 -2.5935e+02  2e+01  1e-04  1e-15\n",
      " 5: -2.4679e+02 -2.5164e+02  5e+00  2e-05  1e-15\n",
      " 6: -2.4746e+02 -2.4986e+02  2e+00  9e-06  1e-15\n",
      " 7: -2.4781e+02 -2.4895e+02  1e+00  1e-14  1e-15\n",
      " 8: -2.4808e+02 -2.4832e+02  2e-01  2e-14  1e-15\n",
      " 9: -2.4814e+02 -2.4820e+02  6e-02  3e-15  1e-15\n",
      "10: -2.4816e+02 -2.4816e+02  3e-03  1e-14  1e-15\n",
      "11: -2.4816e+02 -2.4816e+02  4e-05  1e-14  1e-15\n",
      "Optimal solution found.\n",
      "Accuracy:  0.803125\n",
      "Balanced Accuracy:  0.8421912746909195\n",
      "Confusion Matrix:\n",
      " [[170  57]\n",
      " [  6  87]]\n",
      "\n",
      "solving for gamma=1:\n",
      "\n",
      "     pcost       dcost       gap    pres   dres\n",
      " 0: -4.2056e+02 -2.1469e+03  2e+03  7e-14  1e-15\n",
      " 1: -4.2872e+02 -5.3943e+02  1e+02  1e-14  5e-16\n",
      " 2: -4.3849e+02 -4.4480e+02  6e+00  1e-14  2e-16\n",
      " 3: -4.3940e+02 -4.3966e+02  3e-01  2e-15  2e-16\n",
      " 4: -4.3946e+02 -4.3946e+02  8e-03  5e-15  1e-16\n",
      " 5: -4.3946e+02 -4.3946e+02  3e-04  1e-14  1e-16\n",
      "Optimal solution found.\n",
      "Accuracy:  0.803125\n",
      "Balanced Accuracy:  0.8358438728624887\n",
      "Confusion Matrix:\n",
      " [[172  55]\n",
      " [  8  85]]\n",
      "\n",
      "solving for gamma=10:\n",
      "\n",
      "     pcost       dcost       gap    pres   dres\n",
      " 0: -4.6988e+02 -2.1491e+03  2e+03  1e-13  4e-16\n",
      " 1: -4.7668e+02 -5.1378e+02  4e+01  9e-14  2e-16\n",
      " 2: -4.8273e+02 -4.8314e+02  4e-01  4e-15  8e-17\n",
      " 3: -4.8280e+02 -4.8281e+02  4e-03  2e-14  1e-16\n",
      " 4: -4.8280e+02 -4.8280e+02  4e-05  4e-14  8e-17\n",
      "Optimal solution found.\n",
      "Accuracy:  0.803125\n",
      "Balanced Accuracy:  0.8358438728624887\n",
      "Confusion Matrix:\n",
      " [[172  55]\n",
      " [  8  85]]\n",
      "\n",
      "solving for gamma=100:\n",
      "\n",
      "     pcost       dcost       gap    pres   dres\n",
      " 0: -4.6988e+02 -2.1491e+03  2e+03  1e-13  2e-16\n",
      " 1: -4.7668e+02 -5.1378e+02  4e+01  2e-13  4e-16\n",
      " 2: -4.8273e+02 -4.8314e+02  4e-01  5e-14  7e-17\n",
      " 3: -4.8280e+02 -4.8281e+02  4e-03  6e-14  6e-17\n",
      " 4: -4.8280e+02 -4.8280e+02  4e-05  3e-14  5e-17\n",
      "Optimal solution found.\n",
      "Accuracy:  0.803125\n",
      "Balanced Accuracy:  0.8358438728624887\n",
      "Confusion Matrix:\n",
      " [[172  55]\n",
      " [  8  85]]\n",
      "\n",
      "0.1\n"
     ]
    }
   ],
   "source": [
    "gammas = [00.1, 0.1, 1, 10, 100]\n",
    "best_gamma = None\n",
    "best_balanced_accuracy = -1\n",
    "best_support_vectors = None\n",
    "best_support_vector_labels = None\n",
    "best_support_vector_alphas = None\n",
    "\n",
    "for gamma in gammas:\n",
    "    print(\"solving for gamma={}:\\n\".format(gamma))\n",
    "    support_vectors, support_vector_labels, support_vector_alphas = soft_margin_svm(X_train, y_train, C, gamma)\n",
    "    y_pred = predict_labels(np.array(X_val), support_vectors, support_vector_labels, support_vector_alphas)\n",
    "    _, ba, _ = evaluate(y_val, y_pred)\n",
    "    print()\n",
    "    if ba > best_balanced_accuracy:\n",
    "        best_gamma = gamma\n",
    "        best_balanced_accuracy = ba\n",
    "        best_support_vectors = support_vectors\n",
    "        best_support_vector_labels = support_vector_labels\n",
    "        best_support_vector_alphas = support_vector_alphas\n",
    "\n",
    "print(best_gamma)"
   ]
  },
  {
   "cell_type": "code",
   "execution_count": 16,
   "metadata": {},
   "outputs": [
    {
     "name": "stdout",
     "output_type": "stream",
     "text": [
      "Accuracy:  0.7902621722846442\n",
      "Balanced Accuracy:  0.8323863636363636\n",
      "Confusion Matrix:\n",
      " [[272 102]\n",
      " [ 10 150]]\n"
     ]
    }
   ],
   "source": [
    "y_pred = predict_labels(np.array(X_test), best_support_vectors, best_support_vector_labels, best_support_vector_alphas)\n",
    "_, _, confusion_mat = evaluate(y_test, y_pred)"
   ]
  },
  {
   "cell_type": "markdown",
   "metadata": {},
   "source": [
    "# Multiclass SVM (30 points + 50 points optional)"
   ]
  },
  {
   "cell_type": "markdown",
   "metadata": {},
   "source": [
    "Now we want implement Multiclass SVM. Use ```SVC``` function with rbf kernel from ```scikit-learn``` package on all train datas (all six classes) and choose best hyperparameters for $C$ and $\\gamma$ between 0.01, 0.1, 1, 10, 100. After that evaluate it with your function.\n",
    "\n",
    "Note that in this example we had enough data to split them in train and validation but in case that we don't have enough data, ```scikit-learn``` has a built-in fast library named ```GridSearchCV()``` which can help us in hyperparameter tunning with cross validation."
   ]
  },
  {
   "cell_type": "code",
   "execution_count": 17,
   "metadata": {},
   "outputs": [],
   "source": [
    "data = pd.read_csv('./Data/satimage.csv')\n",
    "\n",
    "X = data.drop(['label'], axis=1).values\n",
    "y = data['label'].values\n",
    "\n",
    "X_train, X_test, y_train, y_test = train_test_split(X, y, test_size=0.4)\n",
    "X_val, X_test, y_val, y_test = train_test_split(X_test, y_test, test_size=0.625)\n",
    "\n",
    "X_train = scaler.fit_transform(X_train)\n",
    "X_val = scaler.fit_transform(X_val)\n",
    "X_test = scaler.fit_transform(X_test)"
   ]
  },
  {
   "cell_type": "code",
   "execution_count": 18,
   "metadata": {},
   "outputs": [
    {
     "name": "stdout",
     "output_type": "stream",
     "text": [
      "Best C: 10\n",
      "Best Gamma: 0.1\n",
      "Accuracy: 0.9179614667495338\n",
      "Balanced Accuracy: 0.8925105909690897\n",
      "Confusion Matrix:\n",
      " [[391   0   5   0   0   0]\n",
      " [  0 167   0   0   1   0]\n",
      " [  2   1 313  10   0   4]\n",
      " [  0   2  38  88   2  27]\n",
      " [  2   1   0   0 166   7]\n",
      " [  0   0   8  15   7 352]]\n"
     ]
    },
    {
     "data": {
      "text/plain": [
       "(0.9179614667495338,\n",
       " 0.8925105909690897,\n",
       " array([[391,   0,   5,   0,   0,   0],\n",
       "        [  0, 167,   0,   0,   1,   0],\n",
       "        [  2,   1, 313,  10,   0,   4],\n",
       "        [  0,   2,  38,  88,   2,  27],\n",
       "        [  2,   1,   0,   0, 166,   7],\n",
       "        [  0,   0,   8,  15,   7, 352]], dtype=int64))"
      ]
     },
     "execution_count": 18,
     "metadata": {},
     "output_type": "execute_result"
    }
   ],
   "source": [
    "Cs = [0.01, 0.1, 1, 10, 100]\n",
    "gammas = [0.01, 0.1, 1, 10, 100]\n",
    "\n",
    "def evaluate(y_true, y_pred):\n",
    "    accuracy = accuracy_score(y_true, y_pred)\n",
    "    balanced_accuracy = balanced_accuracy_score(y_true, y_pred)\n",
    "    confusion_mat = confusion_matrix(y_true, y_pred)\n",
    "    print(\"Accuracy:\", accuracy)\n",
    "    print(\"Balanced Accuracy:\", balanced_accuracy)\n",
    "    print(\"Confusion Matrix:\\n\", confusion_mat)\n",
    "    return accuracy, balanced_accuracy, confusion_mat\n",
    "\n",
    "# Create the parameter grid\n",
    "param_grid = {'C': Cs, 'gamma': gammas}\n",
    "\n",
    "# Create the GridSearchCV object\n",
    "grid_search = GridSearchCV(SVC(kernel='rbf'), param_grid, cv=5, scoring='accuracy')\n",
    "\n",
    "# Train the model\n",
    "grid_search.fit(X_train, y_train)\n",
    "\n",
    "# Get the best hyperparameters\n",
    "best_C = grid_search.best_params_['C']\n",
    "best_gamma = grid_search.best_params_['gamma']\n",
    "\n",
    "# Print the best hyperparameters\n",
    "print(\"Best C:\", best_C)\n",
    "print(\"Best Gamma:\", best_gamma)\n",
    "\n",
    "# Predict labels on test data using the model with best hyperparameters\n",
    "y_pred = grid_search.predict(X_test)\n",
    "\n",
    "# Evaluate the model\n",
    "evaluate(y_test, y_pred)"
   ]
  },
  {
   "cell_type": "markdown",
   "metadata": {},
   "source": [
    "Implement Multiclass SVM from scratch without using ready functions (optional)."
   ]
  },
  {
   "cell_type": "code",
   "execution_count": 19,
   "metadata": {},
   "outputs": [],
   "source": [
    "class SVM:\n",
    "    linear = lambda x, x_ , c=0: x @ x_ .T\n",
    "    polynomial = lambda x, x_ , Q=5: (1 + x @ x_.T)**Q\n",
    "    rbf = lambda x, x_ , gamma=10: np.exp(-gamma * distance.cdist(x, x_,'sqeuclidean'))\n",
    "    kernel_funs = {'linear': linear, 'polynomial': polynomial, 'rbf': rbf}\n",
    "    \n",
    "    def __init__(self, kernel='rbf', C=1, k=2):\n",
    "        # set the hyperparameters\n",
    "        self.kernel_str = kernel\n",
    "        self.kernel = SVM.kernel_funs[kernel]\n",
    "        self.C = C                  # regularization parameter\n",
    "        self.k = k                  # kernel parameter\n",
    "        \n",
    "        # training data and support vectors\n",
    "        self.X, y = None, None\n",
    "        self.alphas = None\n",
    "        \n",
    "        # for multi-class classification\n",
    "        self.multiclass = False\n",
    "        self.clfs = []                                  \n",
    "\n",
    "    def fit(self, X, y):\n",
    "        if len(np.unique(y)) > 2:\n",
    "            self.multiclass = True\n",
    "            return self.multi_fit(X, y)\n",
    "        \n",
    "        # relabel if needed\n",
    "        if set(np.unique(y)) == {0, 1}: y[y == 0] = -1\n",
    "        # ensure y has dimensions Nx1\n",
    "        self.y = y.reshape(-1, 1).astype(np.double) # Has to be a column vector\n",
    "        self.X = X\n",
    "        N = X.shape[0]\n",
    "        \n",
    "        # compute the kernel over all possible pairs of (x, x') in the data\n",
    "        self.K = self.kernel(X, X, self.k)\n",
    "        \n",
    "        # For 1/2 x^T P x + q^T x\n",
    "        P = cvxopt.matrix(self.y @ self.y.T * self.K)\n",
    "        q = cvxopt.matrix(-np.ones((N, 1)))\n",
    "        \n",
    "        # For Ax = b\n",
    "        A = cvxopt.matrix(self.y.T)\n",
    "        b = cvxopt.matrix(np.zeros(1))\n",
    "\n",
    "        # For Gx <= h\n",
    "        G = cvxopt.matrix(np.vstack((-np.identity(N),\n",
    "                                    np.identity(N))))\n",
    "        h = cvxopt.matrix(np.vstack((np.zeros((N,1)),\n",
    "                                    np.ones((N,1)) * self.C)))\n",
    "\n",
    "        # Solve    \n",
    "        cvxopt.solvers.options['show_progress'] = False\n",
    "        sol = cvxopt.solvers.qp(P, q, G, h, A, b)\n",
    "        self.alphas = np.array(sol[\"x\"])\n",
    "            \n",
    "        # Maps into support vectors\n",
    "        self.is_sv = ((self.alphas > 1e-3) & (self.alphas <= self.C)).squeeze()\n",
    "        self.margin_sv = np.argmax((1e-3 < self.alphas) & (self.alphas < self.C - 1e-3))\n",
    "\n",
    "    def multi_fit(self, X, y):\n",
    "        self.k = len(np.unique(y))      # number of classes\n",
    "        # for each pair of classes\n",
    "        for i in range(self.k):\n",
    "            # get the data for the pair\n",
    "            Xs, Ys = X, copy.copy(y)\n",
    "            # change the labels to -1 and 1\n",
    "            Ys[Ys!=i], Ys[Ys==i] = -1, +1\n",
    "            # fit the classifier\n",
    "            clf = SVM(kernel=self.kernel_str, C=self.C, k=self.k)\n",
    "            clf.fit(Xs, Ys)\n",
    "            # save the classifier\n",
    "            self.clfs.append(clf)\n",
    "\n",
    "    def predict(self, X_t):\n",
    "        if self.multiclass: return self.multi_predict(X_t)\n",
    "        xₛ, yₛ = self.X[self.margin_sv, np.newaxis], self.y[self.margin_sv]\n",
    "        alphas, y, X= self.alphas[self.is_sv], self.y[self.is_sv], self.X[self.is_sv]\n",
    "\n",
    "        b = yₛ - np.sum(alphas * y * self.kernel(X, xₛ, self.k), axis=0)\n",
    "        score = np.sum(alphas * y * self.kernel(X, X_t, self.k), axis=0) + b\n",
    "        return np.sign(score).astype(int), score\n",
    "\n",
    "    def multi_predict(self, X):\n",
    "        # get the predictions from all classifiers\n",
    "        preds = np.zeros((X.shape[0], self.k))\n",
    "        for i, clf in enumerate(self.clfs):\n",
    "            _, preds[:, i] = clf.predict(X)\n",
    "        \n",
    "        # get the argmax and the corresponding score\n",
    "        return np.argmax(preds, axis=1)\n",
    "\n",
    "    def evaluate(self, X,y):  \n",
    "        outputs, _ = self.predict(X)\n",
    "        accuracy = np.sum(outputs == y) / len(y)\n",
    "        return round(accuracy, 2)"
   ]
  },
  {
   "cell_type": "code",
   "execution_count": 29,
   "metadata": {},
   "outputs": [
    {
     "name": "stdout",
     "output_type": "stream",
     "text": [
      "Accuracy: 0.8614045991298943\n",
      "Balanced Accuracy: 0.8172144215635978\n",
      "Confusion Matrix:\n",
      " [[391   0   3   0   2   0]\n",
      " [  0 161   0   0   7   0]\n",
      " [  1   0 309  18   1   1]\n",
      " [  1   2  44  54   5  51]\n",
      " [  6  10   0   1 145  14]\n",
      " [  0   0  11  31  14 326]]\n"
     ]
    }
   ],
   "source": [
    "my_svm = SVM(k=6)\n",
    "my_svm.fit(X_train, y_train)\n",
    "y_pred = my_svm.multi_predict(X_test)\n",
    "\n",
    "accuracy = accuracy_score(y_test, y_pred)\n",
    "balanced_accuracy = balanced_accuracy_score(y_test, y_pred)\n",
    "confusion_mat = confusion_matrix(y_test, y_pred)\n",
    "print(\"Accuracy:\", accuracy)\n",
    "print(\"Balanced Accuracy:\", balanced_accuracy)\n",
    "print(\"Confusion Matrix:\\n\", confusion_mat)"
   ]
  },
  {
   "cell_type": "markdown",
   "metadata": {},
   "source": [
    "# Different SVM Kernels (40 points)"
   ]
  },
  {
   "cell_type": "markdown",
   "metadata": {},
   "source": [
    "A kernel in SVM is like a tool that helps solve tricky problems. It lets us work in a space with many dimensions, making complex calculations easier. With kernels, we can deal with lots of dimensions, even an endless amount. Kernels are crucial for sorting data into groups and help spot patterns in the data we're looking at. They're especially good at tackling twisty problems with a straightforward approach.\n",
    "\n",
    "Sometimes, finding a straight line or flat surface to divide data isn't possible, especially as we explore more dimensions. That's where different types of SVM kernels come in handy. They transform twisty, complicated data into a simpler form that's easier to separate. In this explanation, we talk about 4 popular types of these kernels. Also in following cells you can use any package.\n",
    "\n",
    "<img src=\"./kernel.jpg\" alt=\"Types of Kernel Functions\"  align=center class=\"saturate\">"
   ]
  },
  {
   "cell_type": "markdown",
   "metadata": {},
   "source": [
    "### Linear Kernel"
   ]
  },
  {
   "cell_type": "markdown",
   "metadata": {},
   "source": [
    "This is the simplest kind of kernel, typically working in one dimension. It works best when dealing with a lot of features. Linear kernels are quicker than other types.\n",
    "\n",
    "**Formula:**\n",
    "\n",
    "$$F(x, x_j) = sum(x, x_j)$$\n",
    "\n",
    "Now Implement svc classifier using a linear kernel. Get the prediction and evaluate it by function which you implemented before. Also plot confusion matrix by `Seaborn`."
   ]
  },
  {
   "cell_type": "code",
   "execution_count": 22,
   "metadata": {},
   "outputs": [
    {
     "name": "stdout",
     "output_type": "stream",
     "text": [
      "Accuracy: 0.8551895587321318\n",
      "Balanced Accuracy: 0.8094841942932366\n",
      "Confusion Matrix:\n",
      " [[390   0   4   0   2   0]\n",
      " [  1 158   0   1   8   0]\n",
      " [  2   0 308  19   0   1]\n",
      " [  1   2  43  53   5  53]\n",
      " [  8   9   0   1 143  15]\n",
      " [  0   0  10  32  16 324]]\n"
     ]
    }
   ],
   "source": [
    "C = 10\n",
    "\n",
    "svc_linear = SVC(kernel='linear', C=C)\n",
    "svc_linear.fit(X_train, y_train)\n",
    "y_pred = svc_linear.predict(X_test)\n",
    "_, _, confusion_mat = evaluate(y_test, y_pred)"
   ]
  },
  {
   "cell_type": "markdown",
   "metadata": {},
   "source": [
    "### Gaussian RBF kernel"
   ]
  },
  {
   "cell_type": "markdown",
   "metadata": {},
   "source": [
    "This kernel is a favorite choice in SVM, especially for data that doesn't line up straight. It's great for sorting data when you don't know much about it beforehand.\n",
    "\n",
    "**Formula:**\n",
    "\n",
    "$$F(x, x_j) = \\exp{(-\\gamma ||x - xj||^2)}$$\n",
    "\n",
    "Now, configure the SVC classifier with a sigmoid kernel. Get the prediction and evaluate it by function which you implemented before. Also plot confusion matrix as previous part. "
   ]
  },
  {
   "cell_type": "code",
   "execution_count": 24,
   "metadata": {},
   "outputs": [
    {
     "name": "stdout",
     "output_type": "stream",
     "text": [
      "Accuracy: 0.9179614667495338\n",
      "Balanced Accuracy: 0.8925105909690897\n",
      "Confusion Matrix:\n",
      " [[391   0   5   0   0   0]\n",
      " [  0 167   0   0   1   0]\n",
      " [  2   1 313  10   0   4]\n",
      " [  0   2  38  88   2  27]\n",
      " [  2   1   0   0 166   7]\n",
      " [  0   0   8  15   7 352]]\n"
     ]
    }
   ],
   "source": [
    "svc_rbf = SVC(kernel='rbf', C=C, gamma=0.1)\n",
    "svc_rbf.fit(X_train, y_train)\n",
    "y_pred = svc_rbf.predict(X_test)\n",
    "_, _, confusion_mat = evaluate(y_test, y_pred)"
   ]
  },
  {
   "cell_type": "markdown",
   "metadata": {},
   "source": [
    "### Polynomial Kernel"
   ]
  },
  {
   "cell_type": "markdown",
   "metadata": {},
   "source": [
    "This is a broader version of the linear kernel. It's not as popular because it's not as quick or precise.\n",
    "\n",
    "**Formula:**\n",
    "\n",
    "$$F(x, x_j) = (x.x_j+1)^d$$\n",
    "\n",
    "Now, set up the SVC classifier using a *polynomial* kernel. Get the prediction and evaluate it by function which you implemented before. Also plot confusion matrix as previous parts."
   ]
  },
  {
   "cell_type": "code",
   "execution_count": 25,
   "metadata": {},
   "outputs": [
    {
     "name": "stdout",
     "output_type": "stream",
     "text": [
      "Accuracy: 0.9049098819142325\n",
      "Balanced Accuracy: 0.8827016843582355\n",
      "Confusion Matrix:\n",
      " [[391   0   4   0   1   0]\n",
      " [  0 165   0   0   3   0]\n",
      " [  5   0 304  12   0   9]\n",
      " [  1   3  31  93   2  27]\n",
      " [  2   2   0   1 162   9]\n",
      " [  0   1   9  21  10 341]]\n"
     ]
    }
   ],
   "source": [
    "svc_poly = SVC(kernel='poly', C=C, degree=6, coef0=1)\n",
    "svc_poly.fit(X_train, y_train)\n",
    "y_pred = svc_poly.predict(X_test)\n",
    "_, _, confusion_mat = evaluate(y_test, y_pred)"
   ]
  },
  {
   "cell_type": "markdown",
   "metadata": {},
   "source": [
    "### Sigmoid Kernel"
   ]
  },
  {
   "cell_type": "markdown",
   "metadata": {},
   "source": [
    "This is mainly chosen for use with neural networks. The kernel function acts like the activation function in a two-layer perceptron neural network model, helping to activate the neurons.\n",
    "\n",
    "**Formula:**\n",
    "\n",
    "$$F(x, x_j) = \\tanh(α x a y + c)$$\n",
    "\n",
    "Now, configure the SVC classifier with a sigmoid kernel. Get the prediction and evaluate it by function which you implemented before. Also plot confusion matrix as previous parts. "
   ]
  },
  {
   "cell_type": "code",
   "execution_count": 26,
   "metadata": {},
   "outputs": [
    {
     "name": "stdout",
     "output_type": "stream",
     "text": [
      "Accuracy: 0.48788067122436296\n",
      "Balanced Accuracy: 0.3882636994429188\n",
      "Confusion Matrix:\n",
      " [[294  42  47  13   0   0]\n",
      " [134  27   4   0   2   1]\n",
      " [ 48   0 268   7   3   4]\n",
      " [  2   0 102  18   3  32]\n",
      " [ 43  46   6  35  11  35]\n",
      " [  2   0  42 154  17 167]]\n"
     ]
    }
   ],
   "source": [
    "svc_sigmoid = SVC(kernel='sigmoid', C=C, gamma=1, coef0=0)\n",
    "svc_sigmoid.fit(X_train, y_train)\n",
    "y_pred = svc_sigmoid.predict(X_test)\n",
    "_, _, confusion_mat = evaluate(y_test, y_pred)"
   ]
  },
  {
   "cell_type": "markdown",
   "metadata": {},
   "source": [
    "Compare these four kernel functions with each other. What are the main advantages and disadvantages of each one? "
   ]
  },
  {
   "cell_type": "markdown",
   "metadata": {},
   "source": [
    "# Model Performance Analysis\n",
    "\n",
    "After tuning the models, we can compare their performance by their accuracy and balanced accuracy. Linear, polynomial, and RBF kernels had the highest accuracy/balanced accuracy (88% in average) with very close results, with RBF having the best performance. Sigmoid operated significantly poorer than the other three with extremely low accuracy (~50%) and balanced accuracy (~40%).\n",
    "\n",
    "## Comparing Kernels\n",
    "\n",
    "### Linear Kernel:\n",
    "\n",
    "**Characteristics:**\n",
    "- The linear kernel is the simplest form of kernel function used in SVM.\n",
    "- It computes the dot product between two feature vectors.\n",
    "- Decision boundary is a straight line in the input space.\n",
    "\n",
    "**Performance:**\n",
    "- Linear kernels work well when the data is linearly separable.\n",
    "- They are computationally efficient and fast to train.\n",
    "- They perform best when the relationship between features and labels is close to linear.\n",
    "\n",
    "**Suitability:**\n",
    "- Suitable for datasets with a large number of features and a linear relationship between features and labels.\n",
    "- Effective when the decision boundary is expected to be close to linear.\n",
    "\n",
    "### RBF (Radial Basis Function) Kernel:\n",
    "\n",
    "**Characteristics:**\n",
    "- The RBF kernel computes the similarity between two feature vectors based on the Gaussian (or Radial Basis) function.\n",
    "- It is capable of capturing complex, nonlinear relationships in the data.\n",
    "- Decision boundary is non-linear and can adapt to the shape of the data.\n",
    "\n",
    "**Performance:**\n",
    "- RBF kernels are highly flexible and can model complex decision boundaries.\n",
    "- They perform well on datasets with non-linear relationships and are suitable for high-dimensional data.\n",
    "- However, they are more prone to overfitting and require careful tuning of hyperparameters.\n",
    "\n",
    "**Suitability:**\n",
    "- Suitable for datasets with complex and non-linear relationships.\n",
    "- Effective when the decision boundary is expected to be non-linear and adaptive to the data distribution.\n",
    "\n",
    "### Polynomial Kernel:\n",
    "\n",
    "**Characteristics:**\n",
    "- The polynomial kernel computes the similarity between two feature vectors using polynomial functions.\n",
    "- It can learn decision boundaries of various shapes by setting higher polynomial degrees.\n",
    "- Decision boundary can have different degrees depending on the polynomial degree.\n",
    "\n",
    "**Performance:**\n",
    "- Polynomial kernels can capture non-linear relationships in the data.\n",
    "- They perform well when the decision boundary has a polynomial shape.\n",
    "- However, they are sensitive to the choice of hyperparameters and can be computationally expensive, especially for higher polynomial degrees.\n",
    "\n",
    "**Suitability:**\n",
    "- Suitable for datasets with non-linear relationships where the decision boundary has a polynomial shape.\n",
    "- Effective when the relationship between features and labels can be represented by polynomial functions.\n",
    "\n",
    "### Sigmoid Kernel:\n",
    "\n",
    "**Characteristics:**\n",
    "- The sigmoid kernel computes the similarity between two feature vectors using sigmoid functions.\n",
    "- It can capture non-linear relationships and is useful for binary classification tasks.\n",
    "- Decision boundary is shaped by the sigmoid function.\n",
    "\n",
    "**Performance:**\n",
    "- Sigmoid kernels can capture non-linear relationships, but they often perform poorly compared to other kernels.\n",
    "- They are less common in practice due to their limited applicability and tendency to underperform.\n",
    "- Sensitive to the choice of hyperparameters and may require careful tuning.\n",
    "\n",
    "**Suitability:**\n",
    "- Suitable for binary classification tasks with non-linearly separable data.\n",
    "- Effective when dealing with non-linear relationships and when the decision boundary can be shaped by sigmoid functions."
   ]
  }
 ],
 "metadata": {
  "kernelspec": {
   "display_name": "Python 3",
   "language": "python",
   "name": "python3"
  },
  "language_info": {
   "codemirror_mode": {
    "name": "ipython",
    "version": 3
   },
   "file_extension": ".py",
   "mimetype": "text/x-python",
   "name": "python",
   "nbconvert_exporter": "python",
   "pygments_lexer": "ipython3",
   "version": "3.11.3"
  }
 },
 "nbformat": 4,
 "nbformat_minor": 2
}
